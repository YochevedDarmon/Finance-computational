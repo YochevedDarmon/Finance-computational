{
 "cells": [
  {
   "cell_type": "markdown",
   "metadata": {},
   "source": [
    "# Instance 1"
   ]
  },
  {
   "cell_type": "markdown",
   "metadata": {},
   "source": [
    "Optimisons un portefeuille sur une période, soit N=1.\n",
    "\n",
    "Nous choisissons un portefeuille constitué de:\n",
    "- 1 actif sans risque avec un rendement de 8%,\n",
    "- n=2 actifs risqués tel que:\n",
    "  actif risqué 1: rendement equiprobable parmi les valeurs de 15% et de 5%, noté r1,\n",
    "  actif risqué 2: rendement equiprobable parmi les valeurs de 20% et de 1%, noté r2\n",
    "\n",
    "L'aversion au risque de l'investisseur est traduite par la fonction d'utilité logarithmique suivante:\n",
    "u(x)=ln(a+x) où a=1, coefficient d'aversion au risque"
   ]
  },
  {
   "cell_type": "code",
   "execution_count": 19,
   "metadata": {},
   "outputs": [],
   "source": [
    "import numpy as np\n",
    "\n",
    "I=1000 #nombre de simulations\n",
    "x_0=1000 #richesse initiale\n",
    "\n",
    "N=1 #nombre de periodes\n",
    "n=2 #nombre d'actifs risqués\n",
    "a=1 #coefficient d'aversion au risque\n",
    "\n",
    "r0 = 0.08 #rendement net de l'actif sans risque\n",
    "s = r0 + 1 #rendement brut de l'actif sans risque\n",
    "r1 = [0.05, 0.15] #rendements nets de l'actif risqué 1\n",
    "r2 = [0.01, 0.20] #rendements nets de l'actif risqué 2\n",
    "pi= 0.5 #pi équiprobabilite des rendements"
   ]
  },
  {
   "cell_type": "code",
   "execution_count": 20,
   "metadata": {},
   "outputs": [],
   "source": [
    "# Fonction pour simuler le rendement d'un actif risqué.\n",
    "# Entrées:\n",
    "#   r: liste des rendements des actifs risqués.\n",
    "def actif(r):     \n",
    "    lu=np.random.rand()  #simulation d'une loi uniforme sur l'intervalle [0,1]\n",
    "    if lu>pi :       \n",
    "        return r[1]   #rendement de l'actif 1 dans le bon état de la nature, car 15% > 8% du rendement sans risque\n",
    "    else:\n",
    "        return r[0]    #rendement de l'actif 1 dans le mauvais état de la nature, car 5% < 8% du rendement sans risque"
   ]
  },
  {
   "cell_type": "code",
   "execution_count": 21,
   "metadata": {},
   "outputs": [],
   "source": [
    "# Fonction pour déterminer les meilleurs proportions de richesse à investir dans les différents actifs.\n",
    "# Cette fonction renvoit aussi le montant de la richesse espérée par ces investissement.   \n",
    "# Entrées:\n",
    "#   x_0: richesse initiale à investir dans les différents actifs,\n",
    "#   a: coefficient d'aversion au risque de l'utilité log(a+x),\n",
    "#   r_actif_sans_risque: taux de rendement de l'actif sans risque\n",
    "def politique_optimale(x_0, a, r_actif_sans_risque):\n",
    "    # Init du portefeuille pour chacune des simulations de proportions\n",
    "    # 1ere colonne: proportion de richesse déposée dans l'actif 1,\n",
    "    # 2e colonne: proportion de richesse déposée dans l'actif 2,\n",
    "    # 3e colonne: utilité espérée.  \n",
    "    tableau_u_j=np.zeros((I,n+1))\n",
    "               \n",
    "    # Executions de I simulations de proportions aléatoires différentes\n",
    "    for i in range (0,I):\n",
    "        tableau_u_j[i,0]=np.random.rand() #proportion simulée pour l'actif 1\n",
    "        tableau_u_j[i,1]=(1-tableau_u_j[i,0])*np.random.rand() #proportion simulée pour l'actif 2\n",
    "        \n",
    "        #Init de la fonction d'utilité pour la simulation en cours\n",
    "        utilité_x=np.zeros(I)\n",
    "        \n",
    "        # Executions de I nouvelles simulations pour définir des rendements différents pour la proportion courante\n",
    "        for p in range(0,I):\n",
    "            u1 = x_0*tableau_u_j[i,0]  #Montant investi dans l'actif 1\n",
    "            u2 = x_0*tableau_u_j[i,1]  #Montant investi dans l'actif 2\n",
    "            e1 = 1 + actif(r1)  #rendement brut simulé de l'actif 1\n",
    "            e2 = 1 + actif(r2)  #rendement brut simulé de l'actif 2\n",
    "            x = x_0*s + (e1-s)*u1 + (e2-s)*u2  #richesse après investissement dépendemment des rendements simulés            \n",
    "            utilité_x[p]=np.log(a+x)  #calcul de l'utilité\n",
    "        tableau_u_j[i,2]=np.mean(utilité_x)  #Moyenne de l'utilité sur l'ensemble des rendements simulés \n",
    "    # Calcul des montants optimaux à investir\n",
    "    i_star=np.argmax(tableau_u_j[:,2]) #Index de la proportion qui maximise la moyenne des utilités: correspond à l'utilité maximale\n",
    "    u1_star = x_0*tableau_u_j[i_star,0]  #Montant optimal à investir pour l'actif 1\n",
    "    u2_star = x_0*tableau_u_j[i_star,1]  #Montant optimal à investir l'actif 2\n",
    "    \n",
    "    vect_x1=np.zeros(I)\n",
    "    # Calcul de la richesse espérée en utilisant les proportions qui maximisent l'espérance de l'utilité\n",
    "    for i in range (0,I):\n",
    "        e1 = 1 + actif(r1)  #rendement brut simulé de l'actif 1\n",
    "        e2 = 1 + actif(r2)  #rendement brut simulé de l'actif 2\n",
    "        vect_x1[i] = u1_star*e1 + u2_star*e2 + (s)*(x_0 - u1_star - u2_star) #richesse après investissement optimal dépendemment des rendements simulés\n",
    "    x1=np.mean(vect_x1)  #richesse espérée sur l'ensemble des rendements simulés avec investissement optimal \n",
    "    string=\"Portion optimale à investir dans les deux actifs risqués, Richesse espérée\"\n",
    "    \n",
    "    return tableau_u_j[i_star,0:2], x1"
   ]
  },
  {
   "cell_type": "code",
   "execution_count": 22,
   "metadata": {},
   "outputs": [
    {
     "name": "stdout",
     "output_type": "stream",
     "text": [
      "Proportions optimales à investir dans les deux actifs risqués:\n",
      "[Proportion actif1, Proportion actif2]\n",
      "[0.13385576 0.81621215]\n",
      " \n",
      "Richesse espérée:\n",
      "1103.6570367580678\n"
     ]
    }
   ],
   "source": [
    "u_star, x1 = politique_optimale(x_0, a, r0)\n",
    "print(\"Proportions optimales à investir dans les deux actifs risqués:\")\n",
    "print(\"[Proportion actif1, Proportion actif2]\")\n",
    "print(u_star)\n",
    "print(\" \")\n",
    "print(\"Richesse espérée:\")\n",
    "print(x1)"
   ]
  },
  {
   "cell_type": "markdown",
   "metadata": {},
   "source": [
    "# Instance 2"
   ]
  },
  {
   "cell_type": "markdown",
   "metadata": {},
   "source": [
    "Optimisons un portefeuille sur trois périodes, soit N=3.\n",
    "\n",
    "Nous choisissons un portefeuille constitué de:\n",
    "- 1 actif sans risque avec un rendement de 8%,\n",
    "- n=2 actifs risqués tel que:\n",
    "  actif risqué 1: rendement equiprobable parmi les valeurs de 15% et de 5%, noté r1,\n",
    "  actif risqué 2: rendement equiprobable parmi les valeurs de 20% et de 1%, noté r2\n",
    "\n",
    "L'aversion au risque de l'investisseur est traduite par la fonction d'utilité logarithmique suivante:\n",
    "u(x)=ln(a+x) où a=1, coefficient d'aversion au risque\n",
    "\n",
    "\n",
    "\n",
    "\n",
    "Si on a besoin d'une valeur de xk on prendrera 1000\n",
    "on prendrera 1000 pour x0 et on suppose que tout notre argent est dans l'actif sans risque \n",
    "donc on prendra xk= 1000*(1,08)^(k)\n",
    "\n",
    "La politique optimal est de toujours maximiser l'utilité de la richesse au temps N pour tous les temps k de 1 à N"
   ]
  },
  {
   "cell_type": "code",
   "execution_count": 23,
   "metadata": {},
   "outputs": [],
   "source": [
    "# Toutes les constantes definies dans l'Instance 1 sont conservees, sauf N:\n",
    "N = 3"
   ]
  },
  {
   "cell_type": "code",
   "execution_count": 24,
   "metadata": {},
   "outputs": [
    {
     "name": "stdout",
     "output_type": "stream",
     "text": [
      "Proportions optimales à investir dans les deux actifs risqués pour chaque période et richesse espérée associée :\n",
      "[Proportion actif1, Proportion actif2, Richesse espérée]\n",
      "[[9.59028053e-01 2.36680185e-02 1.10118832e+03]\n",
      " [9.82142142e-01 1.03013387e-02 1.20942175e+03]\n",
      " [9.48587341e-01 3.83139350e-02 1.32867290e+03]]\n"
     ]
    }
   ],
   "source": [
    "# Init du portefeuille optimale pour chacune des N périodes\n",
    "#1ere colonne: proportion optimale de richesse déposée dans l'actif 1,\n",
    "#2e colonne: proportion optimale de richesse déposée dans l'actif 2,\n",
    "#3e colonne: richesse espérée pour la proportion optimale \n",
    "portefeuille_optimal=np.zeros((N, n+1))\n",
    "                                        \n",
    "# Chainage arriere sur les N périodes\n",
    "for k in range (N-1,-1,-1):\n",
    "    # Init du portefeuille pour chacune des simulations de proportions à la periode k\n",
    "    # 1ere colonne: proportion de richesse déposée dans l'actif 1\n",
    "    # 2e colonne: proportion de richesse déposée dans l'actif 2,\n",
    "    # 3e colonne: utilité espérée.  \n",
    "    tableau_u_j = np.zeros((I,n+1))\n",
    "    \n",
    "    # Executions de I simulations de proportions aléatoires différentes\n",
    "    for i in range (0,I):                           \n",
    "        tableau_u_j[i,0]=np.random.rand() #proportion simulée pour l'actif 1\n",
    "        tableau_u_j[i,1]=(1-tableau_u_j[i,0])*np.random.rand() #proportion pour de l'actif 2\n",
    "        \n",
    "        #Init de la fonction d'utilité pour la simulation en cours\n",
    "        uxN=np.zeros(I)\n",
    "        \n",
    "        # Executions de I nouvelles simulations pour définir des rendements différents pour la proportion courante\n",
    "        for p in range(0,I):\n",
    "            u1 = tableau_u_j[i,0]*x_0 #Montant investi dans l'actif 1\n",
    "            u2 = tableau_u_j[i,0]*x_0 #Montant investi dans l'actif 2\n",
    "            e1 = 1 + actif(r1)  #rendement brut simulé de l'actif 1\n",
    "            e2 = 1 + actif(r2)  #rendement brut simulé de l'actif 2\n",
    "            \n",
    "            xN = s**(N-k)*x_0*s**(k) + ( (e1-s)*u1 + (e2-s)*u2 )*s**(N-1-k) #contribution à la richesse de la période k à la période N \n",
    "            #Actualisation de la richesse à la periode N par sommation des contributions des richesses des périodes N-1 à k+1\n",
    "            for j in range(N-1,k,-1):\n",
    "                u_opt1 = portefeuille_optimal[j,0] #Montant investi dans l'actif 1 à la période j\n",
    "                u_opt2=portefeuille_optimal[j,1] #Montant investi dans l'actif 2 à la période j\n",
    "                e1 = 1 + actif(r1)  #rendement brut simulé de l'actif 1\n",
    "                e2 = 1 + actif(r2)  #rendement brut simulé de l'actif 2\n",
    "                xN += ( (e1-s)*u_opt1+ (e2-s)*u_opt2 )*s**(N-1-j) #actualisation de la richesse à la periode N\n",
    "            uxN[p] = np.log(a+xN)  #calcul de l'utilité\n",
    "        tableau_u_j[i,2] = np.mean(uxN)  #Moyenne de l'utilité sur l'ensemble des rendements simulés\n",
    "    istar=np.argmax(tableau_u_j[:,-1])  #Index de la proportion qui maximise la moyenne des utilités: correspond à l'utilité maximale\n",
    "    portefeuille_optimal[k,0] = tableau_u_j[istar,0] #proportion optimale pour l'actif 1 à la période k\n",
    "    portefeuille_optimal[k,1] = tableau_u_j[istar,1] #proportion optimale pour l'actif 2 à la période k\n",
    "\n",
    "# Init de la richesse esperée à la richesse initiale x_0\n",
    "richesse = x_0\n",
    "# Calcul des richesses esperées pour chaque période k avec le portefeuille optimal associé pour toutes les simulations de rendements aléatoires\n",
    "for k in range(0,N):\n",
    "    xk=np.zeros(I)\n",
    "    # Calcul de la richesse espérée à la période k en utilisant les proportions qui maximisent l'espérance de l'utilité\n",
    "    for i in range (0,I): \n",
    "        e1=1+actif(r1) #rendement brut simulé de l'actif 1\n",
    "        e2=1+actif(r2) #rendement brut simulé de l'actif 2\n",
    "        # Calcul des montants optimaux à investir à la période k\n",
    "        u1 = richesse*portefeuille_optimal[k,0] #Montant optimal à investir pour l'actif 1\n",
    "        u2 = richesse*portefeuille_optimal[k,1] #Montant optimal à investir pour l'actif 2\n",
    "        xk[i] = u1*e1 + u2*e2 + (richesse-u1-u2)*s #richesse après investissement optimal dépendemment des rendements simulés\n",
    "    #richesse espérée sur l'ensemble des rendements simulés avec investissement optimal à la période k\n",
    "    richesse=np.mean(xk)\n",
    "    portefeuille_optimal[k,-1]=np.mean(xk)\n",
    "\n",
    "print(\"Proportions optimales à investir dans les deux actifs risqués pour chaque période et richesse espérée associée :\")\n",
    "print(\"[Proportion actif1, Proportion actif2, Richesse espérée]\")\n",
    "print(portefeuille_optimal)"
   ]
  },
  {
   "cell_type": "code",
   "execution_count": 25,
   "metadata": {},
   "outputs": [
    {
     "data": {
      "text/plain": [
       "1259.7120000000002"
      ]
     },
     "execution_count": 25,
     "metadata": {},
     "output_type": "execute_result"
    }
   ],
   "source": [
    "# Calcul de la richesse obtenue en plaçant toute la richesse intiale dans l'actif sans risque à la période N  \n",
    "x_0*s**N"
   ]
  },
  {
   "cell_type": "markdown",
   "metadata": {},
   "source": [
    "## CONCLUSION\n",
    "La richesse espérée obtenue à la période N est bien superieure au montant qu'on obtiendrait en plaçant toute la richesse intiale dans l'actif sans risque  "
   ]
  }
 ],
 "metadata": {
  "kernelspec": {
   "display_name": "Python 3",
   "language": "python",
   "name": "python3"
  },
  "language_info": {
   "codemirror_mode": {
    "name": "ipython",
    "version": 3
   },
   "file_extension": ".py",
   "mimetype": "text/x-python",
   "name": "python",
   "nbconvert_exporter": "python",
   "pygments_lexer": "ipython3",
   "version": "3.7.4"
  }
 },
 "nbformat": 4,
 "nbformat_minor": 2
}
